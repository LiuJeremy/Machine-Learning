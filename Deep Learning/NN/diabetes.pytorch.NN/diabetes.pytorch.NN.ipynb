{
 "cells": [
  {
   "cell_type": "code",
   "execution_count": 43,
   "metadata": {},
   "outputs": [],
   "source": [
    "import numpy as np\n",
    "import matplotlib.pyplot as plt\n",
    "import torch \n",
    "import torch.nn as nn\n",
    "import torch.nn.init as init\n",
    "import torch.nn.functional as F\n",
    "import math\n",
    "%matplotlib inline"
   ]
  },
  {
   "cell_type": "code",
   "execution_count": 56,
   "metadata": {},
   "outputs": [
    {
     "name": "stdout",
     "output_type": "stream",
     "text": [
      "[ 1.    85.    66.    29.     0.    26.6    0.351 31.     0.   ]\n",
      "[ 1.    85.    66.    29.     0.    26.6    0.351 31.   ]\n"
     ]
    }
   ],
   "source": [
    "#读取数据集\n",
    "import pandas as pd\n",
    "xy = pd.read_csv('diabetes.csv',delimiter=',',dtype= np.float32)\n",
    "xy_numpy = xy.to_numpy() #pandas 转维numpy 为了后面numpy转tensor\n",
    "x = xy_numpy[:,0:-1] # x为 768*8\n",
    "y = xy_numpy[:,-1].reshape(-1,1) #为了让其shape为 768*1 ，而不是768"
   ]
  },
  {
   "cell_type": "code",
   "execution_count": 45,
   "metadata": {},
   "outputs": [],
   "source": [
    "#numpy转Tensor\n",
    "x_data = torch.Tensor(torch.from_numpy(x)) #注意此处的Tensor 若由numpy转换过来 numpy的dtype须为np.float32或其他float类型\n",
    "y_data = torch.Tensor(torch.from_numpy(y))"
   ]
  },
  {
   "cell_type": "code",
   "execution_count": 46,
   "metadata": {},
   "outputs": [
    {
     "name": "stdout",
     "output_type": "stream",
     "text": [
      "torch.Size([768, 8])\n",
      "torch.Size([768, 1])\n"
     ]
    }
   ],
   "source": [
    "print(x_data.data.shape)\n",
    "print(y_data.data.shape)"
   ]
  },
  {
   "cell_type": "code",
   "execution_count": 47,
   "metadata": {},
   "outputs": [],
   "source": [
    "#搭建多层神经网络\n",
    "class Model(nn.Module):\n",
    "    def __init__(self):\n",
    "        super(Model,self).__init__()\n",
    "        # 定义多层神经网络\n",
    "        self.fc1 = torch.nn.Linear(8,6)\n",
    "        self.fc2 = torch.nn.Linear(6,4)\n",
    "        self.fc3 = torch.nn.Linear(4,1)\n",
    "    \n",
    "    def forward(self,x):\n",
    "        x = F.relu(self.fc1(x))            # 8->6  第一层：\n",
    "        x = F.dropout(x,p=0.5)             #dropout 1 \n",
    "        x = F.relu(self.fc2(x))            #-6->4   第二层\n",
    "        x = F.dropout(x,p=0.5)             # dropout 2\n",
    "        y_pred = torch.sigmoid(self.fc3(x))         # 4->1 ->sigmoid  第三层+sigmoid层\n",
    "        # warnings.warn(\"nn.functional.sigmoid is deprecated. Use torch.sigmoid instead.\"\n",
    "        return y_pred"
   ]
  },
  {
   "cell_type": "code",
   "execution_count": 57,
   "metadata": {},
   "outputs": [],
   "source": [
    "#自定义权重初始化函数\n",
    "def weight_init(m):\n",
    "    classname = m.__class__.__name__\n",
    "    if classname.find('Linear')!= -1:\n",
    "        m.weight.data = torch.randn(m.weight.data.size()[0],m.weight.data.size()[1])\n",
    "        m.bias.data = torch.randn(m.bias.data.size()[0])"
   ]
  },
  {
   "cell_type": "code",
   "execution_count": 58,
   "metadata": {},
   "outputs": [
    {
     "data": {
      "text/plain": [
       "Model(\n",
       "  (fc1): Linear(in_features=8, out_features=6, bias=True)\n",
       "  (fc2): Linear(in_features=6, out_features=4, bias=True)\n",
       "  (fc3): Linear(in_features=4, out_features=1, bias=True)\n",
       ")"
      ]
     },
     "execution_count": 58,
     "metadata": {},
     "output_type": "execute_result"
    }
   ],
   "source": [
    "#实例化类\n",
    "model = Model()\n",
    "model.apply(weight_init)"
   ]
  },
  {
   "cell_type": "code",
   "execution_count": 42,
   "metadata": {},
   "outputs": [
    {
     "name": "stdout",
     "output_type": "stream",
     "text": [
      "(759, 8)\n"
     ]
    }
   ],
   "source": [
    "#定义损失函数及优化器\n",
    "criterion  = torch.nn.BCELoss() #定义损失函数 binary corsstropy\n",
    "optimizer = torch.optim.SGD(model.parameters(),lr = 0.01) #学习率设置为0.01,学习率为超参数 ，可以自己设置\n",
    "Loss = []\n",
    "print(x.shape)"
   ]
  },
  {
   "cell_type": "code",
   "execution_count": 50,
   "metadata": {},
   "outputs": [
    {
     "name": "stdout",
     "output_type": "stream",
     "text": [
      "[1,  2000] loss: 2.857\n",
      "[101,  2000] loss: 2.704\n",
      "[201,  2000] loss: 2.650\n",
      "[301,  2000] loss: 2.849\n",
      "[401,  2000] loss: 2.887\n",
      "[501,  2000] loss: 2.765\n",
      "[601,  2000] loss: 3.028\n",
      "[701,  2000] loss: 2.718\n",
      "[801,  2000] loss: 2.763\n",
      "[901,  2000] loss: 2.993\n",
      "[1001,  2000] loss: 3.094\n",
      "[1101,  2000] loss: 2.931\n",
      "[1201,  2000] loss: 3.117\n",
      "[1301,  2000] loss: 3.129\n",
      "[1401,  2000] loss: 2.876\n",
      "[1501,  2000] loss: 2.897\n",
      "[1601,  2000] loss: 2.872\n",
      "[1701,  2000] loss: 3.050\n",
      "[1801,  2000] loss: 2.982\n",
      "[1901,  2000] loss: 2.919\n"
     ]
    }
   ],
   "source": [
    "#训练\n",
    "for epoch in range(2000):\n",
    "    y_pred = model(x_data)\n",
    "    #计算误差\n",
    "    loss = criterion(y_pred,y_data)\n",
    "    #\n",
    "    #prin(loss.item())\n",
    "    Loss.append(loss.item())\n",
    "    #每迭代1000次打印Lost并记录\n",
    "    if epoch%100 == 0:\n",
    "        print('[%d, %5d] loss: %.3f' %\n",
    "                  (epoch + 1, 2000, loss.item()))\n",
    "    #梯度清零\n",
    "    optimizer.zero_grad()\n",
    "    #反向传播\n",
    "    loss.backward()\n",
    "    #更新梯度\n",
    "    optimizer.step()"
   ]
  },
  {
   "cell_type": "code",
   "execution_count": 51,
   "metadata": {},
   "outputs": [
    {
     "data": {
      "text/plain": [
       "torch.Tensor"
      ]
     },
     "execution_count": 51,
     "metadata": {},
     "output_type": "execute_result"
    }
   ],
   "source": [
    "for i in range(len(y_pred)):\n",
    "    if(y_pred[i]>0.5):\n",
    "        y_pred[i] = 1.0\n",
    "    else:\n",
    "        y_pred[i] = 0.0\n",
    "#print(y_pred)\n",
    "type(y_pred)"
   ]
  },
  {
   "cell_type": "code",
   "execution_count": 52,
   "metadata": {},
   "outputs": [
    {
     "data": {
      "text/plain": [
       "0.5104166666666666"
      ]
     },
     "execution_count": 52,
     "metadata": {},
     "output_type": "execute_result"
    }
   ],
   "source": [
    "#准确率：\n",
    "(y_pred == y_data).sum().item()/len(y_data) # torch.Tensor.sum()函数"
   ]
  },
  {
   "cell_type": "code",
   "execution_count": null,
   "metadata": {},
   "outputs": [],
   "source": []
  }
 ],
 "metadata": {
  "kernelspec": {
   "display_name": "Python 3",
   "language": "python",
   "name": "python3"
  },
  "language_info": {
   "codemirror_mode": {
    "name": "ipython",
    "version": 3
   },
   "file_extension": ".py",
   "mimetype": "text/x-python",
   "name": "python",
   "nbconvert_exporter": "python",
   "pygments_lexer": "ipython3",
   "version": "3.7.3"
  }
 },
 "nbformat": 4,
 "nbformat_minor": 2
}
